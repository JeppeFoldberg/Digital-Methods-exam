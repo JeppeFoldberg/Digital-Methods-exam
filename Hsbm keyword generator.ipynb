{
 "cells": [
  {
   "cell_type": "code",
   "execution_count": 15,
   "metadata": {},
   "outputs": [
    {
     "output_type": "execute_result",
     "data": {
      "text/plain": [
       "' from spacy.lang.da.stop_words import STOP_WORDS '"
      ]
     },
     "metadata": {},
     "execution_count": 15
    }
   ],
   "source": [
    "\"\"\"import graph_tool.all as gt\n",
    "from hSBM_Topicmodel.sbmtm import sbmtm \"\"\"\n",
    "\n",
    "import pandas as pd\n",
    "from collections import Counter\n",
    "import nltk\n",
    "import string\n",
    "import regex as re\n",
    "import numpy as np\n",
    "import ast\n",
    "\"\"\" from spacy.lang.da.stop_words import STOP_WORDS \"\"\""
   ]
  },
  {
   "cell_type": "markdown",
   "metadata": {},
   "source": [
    "## Preprocessing"
   ]
  },
  {
   "cell_type": "code",
   "execution_count": 17,
   "metadata": {},
   "outputs": [
    {
     "output_type": "stream",
     "name": "stderr",
     "text": [
      "/Users/jeppefoldberg/anaconda3/lib/python3.8/site-packages/IPython/core/interactiveshell.py:3071: DtypeWarning: Columns (13,16) have mixed types.Specify dtype option on import or set low_memory=False.\n  has_raised = await self.run_ast_nodes(code_ast.body, cell_name,\n"
     ]
    },
    {
     "output_type": "execute_result",
     "data": {
      "text/plain": [
       "     user_id       user_name user_screen_name user_location  \\\n",
       "0  152954171  Aslak Grinsted        AGrinsted           NaN   \n",
       "1  152954171  Aslak Grinsted        AGrinsted           NaN   \n",
       "2  152954171  Aslak Grinsted        AGrinsted           NaN   \n",
       "3  152954171  Aslak Grinsted        AGrinsted           NaN   \n",
       "4  152954171  Aslak Grinsted        AGrinsted           NaN   \n",
       "\n",
       "                                    user_description  user_followers_count  \\\n",
       "0  I'm a climate scientist at the Niels Bohr Inst...                3216.0   \n",
       "1  I'm a climate scientist at the Niels Bohr Inst...                3216.0   \n",
       "2  I'm a climate scientist at the Niels Bohr Inst...                3216.0   \n",
       "3  I'm a climate scientist at the Niels Bohr Inst...                3216.0   \n",
       "4  I'm a climate scientist at the Niels Bohr Inst...                3216.0   \n",
       "\n",
       "   user_friends_count  user_statuses_count                 user_created_at  \\\n",
       "0                1864               7636.0  Mon Jun 07 09:01:09 +0000 2010   \n",
       "1                1864               7636.0  Mon Jun 07 09:01:09 +0000 2010   \n",
       "2                1864               7636.0  Mon Jun 07 09:01:09 +0000 2010   \n",
       "3                1864               7636.0  Mon Jun 07 09:01:09 +0000 2010   \n",
       "4                1864               7636.0  Mon Jun 07 09:01:09 +0000 2010   \n",
       "\n",
       "                 tweet_created_at  ...  \\\n",
       "0  Mon Jan 09 08:09:20 +0000 2017  ...   \n",
       "1  Mon Jan 09 13:17:52 +0000 2017  ...   \n",
       "2  Mon Jan 09 13:21:08 +0000 2017  ...   \n",
       "3  Mon Jan 09 13:48:11 +0000 2017  ...   \n",
       "4  Mon Jan 09 17:03:43 +0000 2017  ...   \n",
       "\n",
       "                                     tweet_full_text tweet_retweeted  \\\n",
       "0  RT @madsnyvold: Nogle sukker over stormflod og...           False   \n",
       "1  @COWIdk konkluderer at @kystdk's højvandsstati...           False   \n",
       "2  Forskellen er at @Cowidk inkluderer historiske...           False   \n",
       "3  @kristianpagh Kender du denne rapport for KBH?...           False   \n",
       "4  @kristianpagh er den for høj i køge? -Kbh er j...           False   \n",
       "\n",
       "                              tweet_retweeted_status tweet_retweet_count  \\\n",
       "0  {'created_at': 'Mon Jan 09 07:56:53 +0000 2017...                 2.0   \n",
       "1                                                 {}                 1.0   \n",
       "2                                                 {}                 0.0   \n",
       "3                                                 {}                 0.0   \n",
       "4                                                 {}                 0.0   \n",
       "\n",
       "  tweet_is_quote_status                                tweet_quoted_status  \\\n",
       "0                 False                                                 {}   \n",
       "1                 False                                                 {}   \n",
       "2                 False                                                 {}   \n",
       "3                  True  {'created_at': 'Mon Jan 09 13:17:52 +0000 2017...   \n",
       "4                 False                                                 {}   \n",
       "\n",
       "  tweet_quote_count                                     tweet_entities  \\\n",
       "0               NaN  {'hashtags': [{'text': 'kystsikring', 'indices...   \n",
       "1               NaN  {'hashtags': [], 'symbols': [], 'user_mentions...   \n",
       "2               NaN  {'hashtags': [], 'symbols': [], 'user_mentions...   \n",
       "3               NaN  {'hashtags': [], 'symbols': [], 'user_mentions...   \n",
       "4               NaN  {'hashtags': [], 'symbols': [], 'user_mentions...   \n",
       "\n",
       "    tweet_hashtags        tweet_mentions  \n",
       "0  ['kystsikring']        ['madsnyvold']  \n",
       "1               []  ['COWIdk', 'kystdk']  \n",
       "2               []  ['COWIdk', 'kystdk']  \n",
       "3               []      ['kristianpagh']  \n",
       "4               []      ['kristianpagh']  \n",
       "\n",
       "[5 rows x 22 columns]"
      ],
      "text/html": "<div>\n<style scoped>\n    .dataframe tbody tr th:only-of-type {\n        vertical-align: middle;\n    }\n\n    .dataframe tbody tr th {\n        vertical-align: top;\n    }\n\n    .dataframe thead th {\n        text-align: right;\n    }\n</style>\n<table border=\"1\" class=\"dataframe\">\n  <thead>\n    <tr style=\"text-align: right;\">\n      <th></th>\n      <th>user_id</th>\n      <th>user_name</th>\n      <th>user_screen_name</th>\n      <th>user_location</th>\n      <th>user_description</th>\n      <th>user_followers_count</th>\n      <th>user_friends_count</th>\n      <th>user_statuses_count</th>\n      <th>user_created_at</th>\n      <th>tweet_created_at</th>\n      <th>...</th>\n      <th>tweet_full_text</th>\n      <th>tweet_retweeted</th>\n      <th>tweet_retweeted_status</th>\n      <th>tweet_retweet_count</th>\n      <th>tweet_is_quote_status</th>\n      <th>tweet_quoted_status</th>\n      <th>tweet_quote_count</th>\n      <th>tweet_entities</th>\n      <th>tweet_hashtags</th>\n      <th>tweet_mentions</th>\n    </tr>\n  </thead>\n  <tbody>\n    <tr>\n      <th>0</th>\n      <td>152954171</td>\n      <td>Aslak Grinsted</td>\n      <td>AGrinsted</td>\n      <td>NaN</td>\n      <td>I'm a climate scientist at the Niels Bohr Inst...</td>\n      <td>3216.0</td>\n      <td>1864</td>\n      <td>7636.0</td>\n      <td>Mon Jun 07 09:01:09 +0000 2010</td>\n      <td>Mon Jan 09 08:09:20 +0000 2017</td>\n      <td>...</td>\n      <td>RT @madsnyvold: Nogle sukker over stormflod og...</td>\n      <td>False</td>\n      <td>{'created_at': 'Mon Jan 09 07:56:53 +0000 2017...</td>\n      <td>2.0</td>\n      <td>False</td>\n      <td>{}</td>\n      <td>NaN</td>\n      <td>{'hashtags': [{'text': 'kystsikring', 'indices...</td>\n      <td>['kystsikring']</td>\n      <td>['madsnyvold']</td>\n    </tr>\n    <tr>\n      <th>1</th>\n      <td>152954171</td>\n      <td>Aslak Grinsted</td>\n      <td>AGrinsted</td>\n      <td>NaN</td>\n      <td>I'm a climate scientist at the Niels Bohr Inst...</td>\n      <td>3216.0</td>\n      <td>1864</td>\n      <td>7636.0</td>\n      <td>Mon Jun 07 09:01:09 +0000 2010</td>\n      <td>Mon Jan 09 13:17:52 +0000 2017</td>\n      <td>...</td>\n      <td>@COWIdk konkluderer at @kystdk's højvandsstati...</td>\n      <td>False</td>\n      <td>{}</td>\n      <td>1.0</td>\n      <td>False</td>\n      <td>{}</td>\n      <td>NaN</td>\n      <td>{'hashtags': [], 'symbols': [], 'user_mentions...</td>\n      <td>[]</td>\n      <td>['COWIdk', 'kystdk']</td>\n    </tr>\n    <tr>\n      <th>2</th>\n      <td>152954171</td>\n      <td>Aslak Grinsted</td>\n      <td>AGrinsted</td>\n      <td>NaN</td>\n      <td>I'm a climate scientist at the Niels Bohr Inst...</td>\n      <td>3216.0</td>\n      <td>1864</td>\n      <td>7636.0</td>\n      <td>Mon Jun 07 09:01:09 +0000 2010</td>\n      <td>Mon Jan 09 13:21:08 +0000 2017</td>\n      <td>...</td>\n      <td>Forskellen er at @Cowidk inkluderer historiske...</td>\n      <td>False</td>\n      <td>{}</td>\n      <td>0.0</td>\n      <td>False</td>\n      <td>{}</td>\n      <td>NaN</td>\n      <td>{'hashtags': [], 'symbols': [], 'user_mentions...</td>\n      <td>[]</td>\n      <td>['COWIdk', 'kystdk']</td>\n    </tr>\n    <tr>\n      <th>3</th>\n      <td>152954171</td>\n      <td>Aslak Grinsted</td>\n      <td>AGrinsted</td>\n      <td>NaN</td>\n      <td>I'm a climate scientist at the Niels Bohr Inst...</td>\n      <td>3216.0</td>\n      <td>1864</td>\n      <td>7636.0</td>\n      <td>Mon Jun 07 09:01:09 +0000 2010</td>\n      <td>Mon Jan 09 13:48:11 +0000 2017</td>\n      <td>...</td>\n      <td>@kristianpagh Kender du denne rapport for KBH?...</td>\n      <td>False</td>\n      <td>{}</td>\n      <td>0.0</td>\n      <td>True</td>\n      <td>{'created_at': 'Mon Jan 09 13:17:52 +0000 2017...</td>\n      <td>NaN</td>\n      <td>{'hashtags': [], 'symbols': [], 'user_mentions...</td>\n      <td>[]</td>\n      <td>['kristianpagh']</td>\n    </tr>\n    <tr>\n      <th>4</th>\n      <td>152954171</td>\n      <td>Aslak Grinsted</td>\n      <td>AGrinsted</td>\n      <td>NaN</td>\n      <td>I'm a climate scientist at the Niels Bohr Inst...</td>\n      <td>3216.0</td>\n      <td>1864</td>\n      <td>7636.0</td>\n      <td>Mon Jun 07 09:01:09 +0000 2010</td>\n      <td>Mon Jan 09 17:03:43 +0000 2017</td>\n      <td>...</td>\n      <td>@kristianpagh er den for høj i køge? -Kbh er j...</td>\n      <td>False</td>\n      <td>{}</td>\n      <td>0.0</td>\n      <td>False</td>\n      <td>{}</td>\n      <td>NaN</td>\n      <td>{'hashtags': [], 'symbols': [], 'user_mentions...</td>\n      <td>[]</td>\n      <td>['kristianpagh']</td>\n    </tr>\n  </tbody>\n</table>\n<p>5 rows × 22 columns</p>\n</div>"
     },
     "metadata": {},
     "execution_count": 17
    }
   ],
   "source": [
    "df = pd.read_csv(\"tweets_final.zip\", compression='zip')\n",
    "df.head()"
   ]
  },
  {
   "cell_type": "code",
   "execution_count": 19,
   "metadata": {},
   "outputs": [
    {
     "output_type": "execute_result",
     "data": {
      "text/plain": [
       "          user_id       user_name user_screen_name user_location  \\\n",
       "0       152954171  Aslak Grinsted        AGrinsted           NaN   \n",
       "1       152954171  Aslak Grinsted        AGrinsted           NaN   \n",
       "2       152954171  Aslak Grinsted        AGrinsted           NaN   \n",
       "3       152954171  Aslak Grinsted        AGrinsted           NaN   \n",
       "4       152954171  Aslak Grinsted        AGrinsted           NaN   \n",
       "...           ...             ...              ...           ...   \n",
       "340366  360234529    Zenia Stampe      zeniastampe   Folketinget   \n",
       "340367  360234529    Zenia Stampe      zeniastampe   Folketinget   \n",
       "340368  360234529    Zenia Stampe      zeniastampe   Folketinget   \n",
       "340369  360234529    Zenia Stampe      zeniastampe   Folketinget   \n",
       "340370  360234529    Zenia Stampe      zeniastampe   Folketinget   \n",
       "\n",
       "                                         user_description  \\\n",
       "0       I'm a climate scientist at the Niels Bohr Inst...   \n",
       "1       I'm a climate scientist at the Niels Bohr Inst...   \n",
       "2       I'm a climate scientist at the Niels Bohr Inst...   \n",
       "3       I'm a climate scientist at the Niels Bohr Inst...   \n",
       "4       I'm a climate scientist at the Niels Bohr Inst...   \n",
       "...                                                   ...   \n",
       "340366  Medlem af Folketinget for Radikale Venstre. Ku...   \n",
       "340367  Medlem af Folketinget for Radikale Venstre. Ku...   \n",
       "340368  Medlem af Folketinget for Radikale Venstre. Ku...   \n",
       "340369  Medlem af Folketinget for Radikale Venstre. Ku...   \n",
       "340370  Medlem af Folketinget for Radikale Venstre. Ku...   \n",
       "\n",
       "        user_followers_count  user_friends_count  user_statuses_count  \\\n",
       "0                     3216.0                1864               7636.0   \n",
       "1                     3216.0                1864               7636.0   \n",
       "2                     3216.0                1864               7636.0   \n",
       "3                     3216.0                1864               7636.0   \n",
       "4                     3216.0                1864               7636.0   \n",
       "...                      ...                 ...                  ...   \n",
       "340366               20661.0                1015               1539.0   \n",
       "340367               20661.0                1015               1539.0   \n",
       "340368               20661.0                1015               1539.0   \n",
       "340369               20661.0                1015               1539.0   \n",
       "340370               20661.0                1015               1539.0   \n",
       "\n",
       "                       user_created_at                tweet_created_at  ...  \\\n",
       "0       Mon Jun 07 09:01:09 +0000 2010  Mon Jan 09 08:09:20 +0000 2017  ...   \n",
       "1       Mon Jun 07 09:01:09 +0000 2010  Mon Jan 09 13:17:52 +0000 2017  ...   \n",
       "2       Mon Jun 07 09:01:09 +0000 2010  Mon Jan 09 13:21:08 +0000 2017  ...   \n",
       "3       Mon Jun 07 09:01:09 +0000 2010  Mon Jan 09 13:48:11 +0000 2017  ...   \n",
       "4       Mon Jun 07 09:01:09 +0000 2010  Mon Jan 09 17:03:43 +0000 2017  ...   \n",
       "...                                ...                             ...  ...   \n",
       "340366  Mon Aug 22 22:18:23 +0000 2011  Sun Mar 14 11:55:43 +0000 2021  ...   \n",
       "340367  Mon Aug 22 22:18:23 +0000 2011  Mon Mar 15 11:26:58 +0000 2021  ...   \n",
       "340368  Mon Aug 22 22:18:23 +0000 2011  Tue Apr 27 20:05:33 +0000 2021  ...   \n",
       "340369  Mon Aug 22 22:18:23 +0000 2011  Wed Apr 28 06:01:04 +0000 2021  ...   \n",
       "340370  Mon Aug 22 22:18:23 +0000 2011  Wed Apr 28 07:43:33 +0000 2021  ...   \n",
       "\n",
       "                                          tweet_full_text tweet_retweeted  \\\n",
       "0       RT @madsnyvold: Nogle sukker over stormflod og...           False   \n",
       "1       @COWIdk konkluderer at @kystdk's højvandsstati...           False   \n",
       "2       Forskellen er at @Cowidk inkluderer historiske...           False   \n",
       "3       @kristianpagh Kender du denne rapport for KBH?...           False   \n",
       "4       @kristianpagh er den for høj i køge? -Kbh er j...           False   \n",
       "...                                                   ...             ...   \n",
       "340366  Vi lancerer i dag stort udspil for plantebaser...           False   \n",
       "340367  Aftale om sommerens festivaler præsenteres om ...           False   \n",
       "340368  Tror I, at vi er dumme? Regeringen reklamerer ...           False   \n",
       "340369  @hansersej Det er vi fuldt bevidste om, hvilke...           False   \n",
       "340370  Jeg har her til morgen meddelt fødevareministe...           False   \n",
       "\n",
       "                                   tweet_retweeted_status tweet_retweet_count  \\\n",
       "0       {'created_at': 'Mon Jan 09 07:56:53 +0000 2017...                 2.0   \n",
       "1                                                      {}                 1.0   \n",
       "2                                                      {}                 0.0   \n",
       "3                                                      {}                 0.0   \n",
       "4                                                      {}                 0.0   \n",
       "...                                                   ...                 ...   \n",
       "340366                                                 {}                16.0   \n",
       "340367                                                 {}                 7.0   \n",
       "340368                                                 {}                33.0   \n",
       "340369                                                 {}                 0.0   \n",
       "340370                                                 {}                 8.0   \n",
       "\n",
       "       tweet_is_quote_status  \\\n",
       "0                      False   \n",
       "1                      False   \n",
       "2                      False   \n",
       "3                       True   \n",
       "4                      False   \n",
       "...                      ...   \n",
       "340366                 False   \n",
       "340367                 False   \n",
       "340368                 False   \n",
       "340369                 False   \n",
       "340370                 False   \n",
       "\n",
       "                                      tweet_quoted_status tweet_quote_count  \\\n",
       "0                                                      {}               NaN   \n",
       "1                                                      {}               NaN   \n",
       "2                                                      {}               NaN   \n",
       "3       {'created_at': 'Mon Jan 09 13:17:52 +0000 2017...               NaN   \n",
       "4                                                      {}               NaN   \n",
       "...                                                   ...               ...   \n",
       "340366                                                 {}               NaN   \n",
       "340367                                                 {}               NaN   \n",
       "340368                                                 {}               NaN   \n",
       "340369                                                 {}               NaN   \n",
       "340370                                                 {}               NaN   \n",
       "\n",
       "                                           tweet_entities   tweet_hashtags  \\\n",
       "0       {'hashtags': [{'text': 'kystsikring', 'indices...  ['kystsikring']   \n",
       "1       {'hashtags': [], 'symbols': [], 'user_mentions...               []   \n",
       "2       {'hashtags': [], 'symbols': [], 'user_mentions...               []   \n",
       "3       {'hashtags': [], 'symbols': [], 'user_mentions...               []   \n",
       "4       {'hashtags': [], 'symbols': [], 'user_mentions...               []   \n",
       "...                                                   ...              ...   \n",
       "340366  {'hashtags': [], 'symbols': [], 'user_mentions...               []   \n",
       "340367  {'hashtags': [], 'symbols': [], 'user_mentions...               []   \n",
       "340368  {'hashtags': [], 'symbols': [], 'user_mentions...               []   \n",
       "340369  {'hashtags': [], 'symbols': [], 'user_mentions...               []   \n",
       "340370  {'hashtags': [], 'symbols': [], 'user_mentions...               []   \n",
       "\n",
       "              tweet_mentions  \n",
       "0             ['madsnyvold']  \n",
       "1       ['COWIdk', 'kystdk']  \n",
       "2       ['COWIdk', 'kystdk']  \n",
       "3           ['kristianpagh']  \n",
       "4           ['kristianpagh']  \n",
       "...                      ...  \n",
       "340366                    []  \n",
       "340367                    []  \n",
       "340368                    []  \n",
       "340369         ['hansersej']  \n",
       "340370                    []  \n",
       "\n",
       "[333292 rows x 22 columns]"
      ],
      "text/html": "<div>\n<style scoped>\n    .dataframe tbody tr th:only-of-type {\n        vertical-align: middle;\n    }\n\n    .dataframe tbody tr th {\n        vertical-align: top;\n    }\n\n    .dataframe thead th {\n        text-align: right;\n    }\n</style>\n<table border=\"1\" class=\"dataframe\">\n  <thead>\n    <tr style=\"text-align: right;\">\n      <th></th>\n      <th>user_id</th>\n      <th>user_name</th>\n      <th>user_screen_name</th>\n      <th>user_location</th>\n      <th>user_description</th>\n      <th>user_followers_count</th>\n      <th>user_friends_count</th>\n      <th>user_statuses_count</th>\n      <th>user_created_at</th>\n      <th>tweet_created_at</th>\n      <th>...</th>\n      <th>tweet_full_text</th>\n      <th>tweet_retweeted</th>\n      <th>tweet_retweeted_status</th>\n      <th>tweet_retweet_count</th>\n      <th>tweet_is_quote_status</th>\n      <th>tweet_quoted_status</th>\n      <th>tweet_quote_count</th>\n      <th>tweet_entities</th>\n      <th>tweet_hashtags</th>\n      <th>tweet_mentions</th>\n    </tr>\n  </thead>\n  <tbody>\n    <tr>\n      <th>0</th>\n      <td>152954171</td>\n      <td>Aslak Grinsted</td>\n      <td>AGrinsted</td>\n      <td>NaN</td>\n      <td>I'm a climate scientist at the Niels Bohr Inst...</td>\n      <td>3216.0</td>\n      <td>1864</td>\n      <td>7636.0</td>\n      <td>Mon Jun 07 09:01:09 +0000 2010</td>\n      <td>Mon Jan 09 08:09:20 +0000 2017</td>\n      <td>...</td>\n      <td>RT @madsnyvold: Nogle sukker over stormflod og...</td>\n      <td>False</td>\n      <td>{'created_at': 'Mon Jan 09 07:56:53 +0000 2017...</td>\n      <td>2.0</td>\n      <td>False</td>\n      <td>{}</td>\n      <td>NaN</td>\n      <td>{'hashtags': [{'text': 'kystsikring', 'indices...</td>\n      <td>['kystsikring']</td>\n      <td>['madsnyvold']</td>\n    </tr>\n    <tr>\n      <th>1</th>\n      <td>152954171</td>\n      <td>Aslak Grinsted</td>\n      <td>AGrinsted</td>\n      <td>NaN</td>\n      <td>I'm a climate scientist at the Niels Bohr Inst...</td>\n      <td>3216.0</td>\n      <td>1864</td>\n      <td>7636.0</td>\n      <td>Mon Jun 07 09:01:09 +0000 2010</td>\n      <td>Mon Jan 09 13:17:52 +0000 2017</td>\n      <td>...</td>\n      <td>@COWIdk konkluderer at @kystdk's højvandsstati...</td>\n      <td>False</td>\n      <td>{}</td>\n      <td>1.0</td>\n      <td>False</td>\n      <td>{}</td>\n      <td>NaN</td>\n      <td>{'hashtags': [], 'symbols': [], 'user_mentions...</td>\n      <td>[]</td>\n      <td>['COWIdk', 'kystdk']</td>\n    </tr>\n    <tr>\n      <th>2</th>\n      <td>152954171</td>\n      <td>Aslak Grinsted</td>\n      <td>AGrinsted</td>\n      <td>NaN</td>\n      <td>I'm a climate scientist at the Niels Bohr Inst...</td>\n      <td>3216.0</td>\n      <td>1864</td>\n      <td>7636.0</td>\n      <td>Mon Jun 07 09:01:09 +0000 2010</td>\n      <td>Mon Jan 09 13:21:08 +0000 2017</td>\n      <td>...</td>\n      <td>Forskellen er at @Cowidk inkluderer historiske...</td>\n      <td>False</td>\n      <td>{}</td>\n      <td>0.0</td>\n      <td>False</td>\n      <td>{}</td>\n      <td>NaN</td>\n      <td>{'hashtags': [], 'symbols': [], 'user_mentions...</td>\n      <td>[]</td>\n      <td>['COWIdk', 'kystdk']</td>\n    </tr>\n    <tr>\n      <th>3</th>\n      <td>152954171</td>\n      <td>Aslak Grinsted</td>\n      <td>AGrinsted</td>\n      <td>NaN</td>\n      <td>I'm a climate scientist at the Niels Bohr Inst...</td>\n      <td>3216.0</td>\n      <td>1864</td>\n      <td>7636.0</td>\n      <td>Mon Jun 07 09:01:09 +0000 2010</td>\n      <td>Mon Jan 09 13:48:11 +0000 2017</td>\n      <td>...</td>\n      <td>@kristianpagh Kender du denne rapport for KBH?...</td>\n      <td>False</td>\n      <td>{}</td>\n      <td>0.0</td>\n      <td>True</td>\n      <td>{'created_at': 'Mon Jan 09 13:17:52 +0000 2017...</td>\n      <td>NaN</td>\n      <td>{'hashtags': [], 'symbols': [], 'user_mentions...</td>\n      <td>[]</td>\n      <td>['kristianpagh']</td>\n    </tr>\n    <tr>\n      <th>4</th>\n      <td>152954171</td>\n      <td>Aslak Grinsted</td>\n      <td>AGrinsted</td>\n      <td>NaN</td>\n      <td>I'm a climate scientist at the Niels Bohr Inst...</td>\n      <td>3216.0</td>\n      <td>1864</td>\n      <td>7636.0</td>\n      <td>Mon Jun 07 09:01:09 +0000 2010</td>\n      <td>Mon Jan 09 17:03:43 +0000 2017</td>\n      <td>...</td>\n      <td>@kristianpagh er den for høj i køge? -Kbh er j...</td>\n      <td>False</td>\n      <td>{}</td>\n      <td>0.0</td>\n      <td>False</td>\n      <td>{}</td>\n      <td>NaN</td>\n      <td>{'hashtags': [], 'symbols': [], 'user_mentions...</td>\n      <td>[]</td>\n      <td>['kristianpagh']</td>\n    </tr>\n    <tr>\n      <th>...</th>\n      <td>...</td>\n      <td>...</td>\n      <td>...</td>\n      <td>...</td>\n      <td>...</td>\n      <td>...</td>\n      <td>...</td>\n      <td>...</td>\n      <td>...</td>\n      <td>...</td>\n      <td>...</td>\n      <td>...</td>\n      <td>...</td>\n      <td>...</td>\n      <td>...</td>\n      <td>...</td>\n      <td>...</td>\n      <td>...</td>\n      <td>...</td>\n      <td>...</td>\n      <td>...</td>\n    </tr>\n    <tr>\n      <th>340366</th>\n      <td>360234529</td>\n      <td>Zenia Stampe</td>\n      <td>zeniastampe</td>\n      <td>Folketinget</td>\n      <td>Medlem af Folketinget for Radikale Venstre. Ku...</td>\n      <td>20661.0</td>\n      <td>1015</td>\n      <td>1539.0</td>\n      <td>Mon Aug 22 22:18:23 +0000 2011</td>\n      <td>Sun Mar 14 11:55:43 +0000 2021</td>\n      <td>...</td>\n      <td>Vi lancerer i dag stort udspil for plantebaser...</td>\n      <td>False</td>\n      <td>{}</td>\n      <td>16.0</td>\n      <td>False</td>\n      <td>{}</td>\n      <td>NaN</td>\n      <td>{'hashtags': [], 'symbols': [], 'user_mentions...</td>\n      <td>[]</td>\n      <td>[]</td>\n    </tr>\n    <tr>\n      <th>340367</th>\n      <td>360234529</td>\n      <td>Zenia Stampe</td>\n      <td>zeniastampe</td>\n      <td>Folketinget</td>\n      <td>Medlem af Folketinget for Radikale Venstre. Ku...</td>\n      <td>20661.0</td>\n      <td>1015</td>\n      <td>1539.0</td>\n      <td>Mon Aug 22 22:18:23 +0000 2011</td>\n      <td>Mon Mar 15 11:26:58 +0000 2021</td>\n      <td>...</td>\n      <td>Aftale om sommerens festivaler præsenteres om ...</td>\n      <td>False</td>\n      <td>{}</td>\n      <td>7.0</td>\n      <td>False</td>\n      <td>{}</td>\n      <td>NaN</td>\n      <td>{'hashtags': [], 'symbols': [], 'user_mentions...</td>\n      <td>[]</td>\n      <td>[]</td>\n    </tr>\n    <tr>\n      <th>340368</th>\n      <td>360234529</td>\n      <td>Zenia Stampe</td>\n      <td>zeniastampe</td>\n      <td>Folketinget</td>\n      <td>Medlem af Folketinget for Radikale Venstre. Ku...</td>\n      <td>20661.0</td>\n      <td>1015</td>\n      <td>1539.0</td>\n      <td>Mon Aug 22 22:18:23 +0000 2011</td>\n      <td>Tue Apr 27 20:05:33 +0000 2021</td>\n      <td>...</td>\n      <td>Tror I, at vi er dumme? Regeringen reklamerer ...</td>\n      <td>False</td>\n      <td>{}</td>\n      <td>33.0</td>\n      <td>False</td>\n      <td>{}</td>\n      <td>NaN</td>\n      <td>{'hashtags': [], 'symbols': [], 'user_mentions...</td>\n      <td>[]</td>\n      <td>[]</td>\n    </tr>\n    <tr>\n      <th>340369</th>\n      <td>360234529</td>\n      <td>Zenia Stampe</td>\n      <td>zeniastampe</td>\n      <td>Folketinget</td>\n      <td>Medlem af Folketinget for Radikale Venstre. Ku...</td>\n      <td>20661.0</td>\n      <td>1015</td>\n      <td>1539.0</td>\n      <td>Mon Aug 22 22:18:23 +0000 2011</td>\n      <td>Wed Apr 28 06:01:04 +0000 2021</td>\n      <td>...</td>\n      <td>@hansersej Det er vi fuldt bevidste om, hvilke...</td>\n      <td>False</td>\n      <td>{}</td>\n      <td>0.0</td>\n      <td>False</td>\n      <td>{}</td>\n      <td>NaN</td>\n      <td>{'hashtags': [], 'symbols': [], 'user_mentions...</td>\n      <td>[]</td>\n      <td>['hansersej']</td>\n    </tr>\n    <tr>\n      <th>340370</th>\n      <td>360234529</td>\n      <td>Zenia Stampe</td>\n      <td>zeniastampe</td>\n      <td>Folketinget</td>\n      <td>Medlem af Folketinget for Radikale Venstre. Ku...</td>\n      <td>20661.0</td>\n      <td>1015</td>\n      <td>1539.0</td>\n      <td>Mon Aug 22 22:18:23 +0000 2011</td>\n      <td>Wed Apr 28 07:43:33 +0000 2021</td>\n      <td>...</td>\n      <td>Jeg har her til morgen meddelt fødevareministe...</td>\n      <td>False</td>\n      <td>{}</td>\n      <td>8.0</td>\n      <td>False</td>\n      <td>{}</td>\n      <td>NaN</td>\n      <td>{'hashtags': [], 'symbols': [], 'user_mentions...</td>\n      <td>[]</td>\n      <td>[]</td>\n    </tr>\n  </tbody>\n</table>\n<p>333292 rows × 22 columns</p>\n</div>"
     },
     "metadata": {},
     "execution_count": 19
    }
   ],
   "source": [
    "# removing duplicates from \n",
    "df.drop_duplicates(subset='tweet_id') "
   ]
  },
  {
   "cell_type": "code",
   "execution_count": 20,
   "metadata": {},
   "outputs": [],
   "source": [
    "def preprocess(text, tokenizer=nltk.tokenize.casual.TweetTokenizer()):\n",
    "    '''takes in text and removes urls, mentions, numbers and punctuation'''\n",
    "    if type(text) == str:\n",
    "        text = re.sub(r'(https|http)?:\\/\\/(\\w|\\.|\\/|\\?|\\=|\\&|\\%)*\\b', '', text)\n",
    "        text = re.sub(r'https?', '', text)  # removes the extra weird https left in the text. \n",
    "        text = re.sub(r'\\.\\.\\.', '', text)  # we do not care if people use ...\n",
    "        text = re.sub(r'@\\w+', '', text)\n",
    "        text = re.sub(r'[0-9]', '', text)\n",
    "        text = text.translate(str.maketrans('', '', string.punctuation))\n",
    "        text = tokenizer.tokenize(text)\n",
    "    else: \n",
    "        return np.nan\n",
    "    return text"
   ]
  },
  {
   "cell_type": "code",
   "execution_count": 21,
   "metadata": {},
   "outputs": [],
   "source": [
    "df['preprocessed_text'] = df.tweet_full_text.apply(preprocess)"
   ]
  },
  {
   "cell_type": "code",
   "execution_count": 18,
   "metadata": {},
   "outputs": [],
   "source": [
    "df.to_csv('all_tweets_preprocessed.zip', compression='zip')"
   ]
  },
  {
   "cell_type": "code",
   "execution_count": 27,
   "metadata": {},
   "outputs": [
    {
     "output_type": "execute_result",
     "data": {
      "text/plain": [
       "          user_id       user_name user_screen_name user_location  \\\n",
       "0       152954171  Aslak Grinsted        AGrinsted           NaN   \n",
       "1       152954171  Aslak Grinsted        AGrinsted           NaN   \n",
       "2       152954171  Aslak Grinsted        AGrinsted           NaN   \n",
       "3       152954171  Aslak Grinsted        AGrinsted           NaN   \n",
       "4       152954171  Aslak Grinsted        AGrinsted           NaN   \n",
       "...           ...             ...              ...           ...   \n",
       "340366  360234529    Zenia Stampe      zeniastampe   Folketinget   \n",
       "340367  360234529    Zenia Stampe      zeniastampe   Folketinget   \n",
       "340368  360234529    Zenia Stampe      zeniastampe   Folketinget   \n",
       "340369  360234529    Zenia Stampe      zeniastampe   Folketinget   \n",
       "340370  360234529    Zenia Stampe      zeniastampe   Folketinget   \n",
       "\n",
       "                                         user_description  \\\n",
       "0       I'm a climate scientist at the Niels Bohr Inst...   \n",
       "1       I'm a climate scientist at the Niels Bohr Inst...   \n",
       "2       I'm a climate scientist at the Niels Bohr Inst...   \n",
       "3       I'm a climate scientist at the Niels Bohr Inst...   \n",
       "4       I'm a climate scientist at the Niels Bohr Inst...   \n",
       "...                                                   ...   \n",
       "340366  Medlem af Folketinget for Radikale Venstre. Ku...   \n",
       "340367  Medlem af Folketinget for Radikale Venstre. Ku...   \n",
       "340368  Medlem af Folketinget for Radikale Venstre. Ku...   \n",
       "340369  Medlem af Folketinget for Radikale Venstre. Ku...   \n",
       "340370  Medlem af Folketinget for Radikale Venstre. Ku...   \n",
       "\n",
       "        user_followers_count  user_friends_count  user_statuses_count  \\\n",
       "0                     3216.0                1864               7636.0   \n",
       "1                     3216.0                1864               7636.0   \n",
       "2                     3216.0                1864               7636.0   \n",
       "3                     3216.0                1864               7636.0   \n",
       "4                     3216.0                1864               7636.0   \n",
       "...                      ...                 ...                  ...   \n",
       "340366               20661.0                1015               1539.0   \n",
       "340367               20661.0                1015               1539.0   \n",
       "340368               20661.0                1015               1539.0   \n",
       "340369               20661.0                1015               1539.0   \n",
       "340370               20661.0                1015               1539.0   \n",
       "\n",
       "                       user_created_at                tweet_created_at  ...  \\\n",
       "0       Mon Jun 07 09:01:09 +0000 2010  Mon Jan 09 08:09:20 +0000 2017  ...   \n",
       "1       Mon Jun 07 09:01:09 +0000 2010  Mon Jan 09 13:17:52 +0000 2017  ...   \n",
       "2       Mon Jun 07 09:01:09 +0000 2010  Mon Jan 09 13:21:08 +0000 2017  ...   \n",
       "3       Mon Jun 07 09:01:09 +0000 2010  Mon Jan 09 13:48:11 +0000 2017  ...   \n",
       "4       Mon Jun 07 09:01:09 +0000 2010  Mon Jan 09 17:03:43 +0000 2017  ...   \n",
       "...                                ...                             ...  ...   \n",
       "340366  Mon Aug 22 22:18:23 +0000 2011  Sun Mar 14 11:55:43 +0000 2021  ...   \n",
       "340367  Mon Aug 22 22:18:23 +0000 2011  Mon Mar 15 11:26:58 +0000 2021  ...   \n",
       "340368  Mon Aug 22 22:18:23 +0000 2011  Tue Apr 27 20:05:33 +0000 2021  ...   \n",
       "340369  Mon Aug 22 22:18:23 +0000 2011  Wed Apr 28 06:01:04 +0000 2021  ...   \n",
       "340370  Mon Aug 22 22:18:23 +0000 2011  Wed Apr 28 07:43:33 +0000 2021  ...   \n",
       "\n",
       "        tweet_retweeted                             tweet_retweeted_status  \\\n",
       "0                 False  {'created_at': 'Mon Jan 09 07:56:53 +0000 2017...   \n",
       "1                 False                                                 {}   \n",
       "2                 False                                                 {}   \n",
       "3                 False                                                 {}   \n",
       "4                 False                                                 {}   \n",
       "...                 ...                                                ...   \n",
       "340366            False                                                 {}   \n",
       "340367            False                                                 {}   \n",
       "340368            False                                                 {}   \n",
       "340369            False                                                 {}   \n",
       "340370            False                                                 {}   \n",
       "\n",
       "       tweet_retweet_count tweet_is_quote_status  \\\n",
       "0                      2.0                 False   \n",
       "1                      1.0                 False   \n",
       "2                      0.0                 False   \n",
       "3                      0.0                  True   \n",
       "4                      0.0                 False   \n",
       "...                    ...                   ...   \n",
       "340366                16.0                 False   \n",
       "340367                 7.0                 False   \n",
       "340368                33.0                 False   \n",
       "340369                 0.0                 False   \n",
       "340370                 8.0                 False   \n",
       "\n",
       "                                      tweet_quoted_status  tweet_quote_count  \\\n",
       "0                                                      {}                NaN   \n",
       "1                                                      {}                NaN   \n",
       "2                                                      {}                NaN   \n",
       "3       {'created_at': 'Mon Jan 09 13:17:52 +0000 2017...                NaN   \n",
       "4                                                      {}                NaN   \n",
       "...                                                   ...                ...   \n",
       "340366                                                 {}                NaN   \n",
       "340367                                                 {}                NaN   \n",
       "340368                                                 {}                NaN   \n",
       "340369                                                 {}                NaN   \n",
       "340370                                                 {}                NaN   \n",
       "\n",
       "                                           tweet_entities   tweet_hashtags  \\\n",
       "0       {'hashtags': [{'text': 'kystsikring', 'indices...  ['kystsikring']   \n",
       "1       {'hashtags': [], 'symbols': [], 'user_mentions...               []   \n",
       "2       {'hashtags': [], 'symbols': [], 'user_mentions...               []   \n",
       "3       {'hashtags': [], 'symbols': [], 'user_mentions...               []   \n",
       "4       {'hashtags': [], 'symbols': [], 'user_mentions...               []   \n",
       "...                                                   ...              ...   \n",
       "340366  {'hashtags': [], 'symbols': [], 'user_mentions...               []   \n",
       "340367  {'hashtags': [], 'symbols': [], 'user_mentions...               []   \n",
       "340368  {'hashtags': [], 'symbols': [], 'user_mentions...               []   \n",
       "340369  {'hashtags': [], 'symbols': [], 'user_mentions...               []   \n",
       "340370  {'hashtags': [], 'symbols': [], 'user_mentions...               []   \n",
       "\n",
       "              tweet_mentions  \\\n",
       "0             ['madsnyvold']   \n",
       "1       ['COWIdk', 'kystdk']   \n",
       "2       ['COWIdk', 'kystdk']   \n",
       "3           ['kristianpagh']   \n",
       "4           ['kristianpagh']   \n",
       "...                      ...   \n",
       "340366                    []   \n",
       "340367                    []   \n",
       "340368                    []   \n",
       "340369         ['hansersej']   \n",
       "340370                    []   \n",
       "\n",
       "                                        preprocessed_text  \n",
       "0       [RT, Nogle, sukker, over, stormflod, og, høj, ...  \n",
       "1       [konkluderer, at, s, højvandsstatistik, undere...  \n",
       "2       [Forskellen, er, at, inkluderer, historiske, k...  \n",
       "3                  [Kender, du, denne, rapport, for, KBH]  \n",
       "4       [er, den, for, høj, i, køge, Kbh, er, jo, dere...  \n",
       "...                                                   ...  \n",
       "340366  [Vi, lancerer, i, dag, stort, udspil, for, pla...  \n",
       "340367  [Aftale, om, sommerens, festivaler, præsentere...  \n",
       "340368  [Tror, I, at, vi, er, dumme, Regeringen, rekla...  \n",
       "340369  [Det, er, vi, fuldt, bevidste, om, hvilket, ku...  \n",
       "340370  [Jeg, har, her, til, morgen, meddelt, fødevare...  \n",
       "\n",
       "[340371 rows x 23 columns]"
      ],
      "text/html": "<div>\n<style scoped>\n    .dataframe tbody tr th:only-of-type {\n        vertical-align: middle;\n    }\n\n    .dataframe tbody tr th {\n        vertical-align: top;\n    }\n\n    .dataframe thead th {\n        text-align: right;\n    }\n</style>\n<table border=\"1\" class=\"dataframe\">\n  <thead>\n    <tr style=\"text-align: right;\">\n      <th></th>\n      <th>user_id</th>\n      <th>user_name</th>\n      <th>user_screen_name</th>\n      <th>user_location</th>\n      <th>user_description</th>\n      <th>user_followers_count</th>\n      <th>user_friends_count</th>\n      <th>user_statuses_count</th>\n      <th>user_created_at</th>\n      <th>tweet_created_at</th>\n      <th>...</th>\n      <th>tweet_retweeted</th>\n      <th>tweet_retweeted_status</th>\n      <th>tweet_retweet_count</th>\n      <th>tweet_is_quote_status</th>\n      <th>tweet_quoted_status</th>\n      <th>tweet_quote_count</th>\n      <th>tweet_entities</th>\n      <th>tweet_hashtags</th>\n      <th>tweet_mentions</th>\n      <th>preprocessed_text</th>\n    </tr>\n  </thead>\n  <tbody>\n    <tr>\n      <th>0</th>\n      <td>152954171</td>\n      <td>Aslak Grinsted</td>\n      <td>AGrinsted</td>\n      <td>NaN</td>\n      <td>I'm a climate scientist at the Niels Bohr Inst...</td>\n      <td>3216.0</td>\n      <td>1864</td>\n      <td>7636.0</td>\n      <td>Mon Jun 07 09:01:09 +0000 2010</td>\n      <td>Mon Jan 09 08:09:20 +0000 2017</td>\n      <td>...</td>\n      <td>False</td>\n      <td>{'created_at': 'Mon Jan 09 07:56:53 +0000 2017...</td>\n      <td>2.0</td>\n      <td>False</td>\n      <td>{}</td>\n      <td>NaN</td>\n      <td>{'hashtags': [{'text': 'kystsikring', 'indices...</td>\n      <td>['kystsikring']</td>\n      <td>['madsnyvold']</td>\n      <td>[RT, Nogle, sukker, over, stormflod, og, høj, ...</td>\n    </tr>\n    <tr>\n      <th>1</th>\n      <td>152954171</td>\n      <td>Aslak Grinsted</td>\n      <td>AGrinsted</td>\n      <td>NaN</td>\n      <td>I'm a climate scientist at the Niels Bohr Inst...</td>\n      <td>3216.0</td>\n      <td>1864</td>\n      <td>7636.0</td>\n      <td>Mon Jun 07 09:01:09 +0000 2010</td>\n      <td>Mon Jan 09 13:17:52 +0000 2017</td>\n      <td>...</td>\n      <td>False</td>\n      <td>{}</td>\n      <td>1.0</td>\n      <td>False</td>\n      <td>{}</td>\n      <td>NaN</td>\n      <td>{'hashtags': [], 'symbols': [], 'user_mentions...</td>\n      <td>[]</td>\n      <td>['COWIdk', 'kystdk']</td>\n      <td>[konkluderer, at, s, højvandsstatistik, undere...</td>\n    </tr>\n    <tr>\n      <th>2</th>\n      <td>152954171</td>\n      <td>Aslak Grinsted</td>\n      <td>AGrinsted</td>\n      <td>NaN</td>\n      <td>I'm a climate scientist at the Niels Bohr Inst...</td>\n      <td>3216.0</td>\n      <td>1864</td>\n      <td>7636.0</td>\n      <td>Mon Jun 07 09:01:09 +0000 2010</td>\n      <td>Mon Jan 09 13:21:08 +0000 2017</td>\n      <td>...</td>\n      <td>False</td>\n      <td>{}</td>\n      <td>0.0</td>\n      <td>False</td>\n      <td>{}</td>\n      <td>NaN</td>\n      <td>{'hashtags': [], 'symbols': [], 'user_mentions...</td>\n      <td>[]</td>\n      <td>['COWIdk', 'kystdk']</td>\n      <td>[Forskellen, er, at, inkluderer, historiske, k...</td>\n    </tr>\n    <tr>\n      <th>3</th>\n      <td>152954171</td>\n      <td>Aslak Grinsted</td>\n      <td>AGrinsted</td>\n      <td>NaN</td>\n      <td>I'm a climate scientist at the Niels Bohr Inst...</td>\n      <td>3216.0</td>\n      <td>1864</td>\n      <td>7636.0</td>\n      <td>Mon Jun 07 09:01:09 +0000 2010</td>\n      <td>Mon Jan 09 13:48:11 +0000 2017</td>\n      <td>...</td>\n      <td>False</td>\n      <td>{}</td>\n      <td>0.0</td>\n      <td>True</td>\n      <td>{'created_at': 'Mon Jan 09 13:17:52 +0000 2017...</td>\n      <td>NaN</td>\n      <td>{'hashtags': [], 'symbols': [], 'user_mentions...</td>\n      <td>[]</td>\n      <td>['kristianpagh']</td>\n      <td>[Kender, du, denne, rapport, for, KBH]</td>\n    </tr>\n    <tr>\n      <th>4</th>\n      <td>152954171</td>\n      <td>Aslak Grinsted</td>\n      <td>AGrinsted</td>\n      <td>NaN</td>\n      <td>I'm a climate scientist at the Niels Bohr Inst...</td>\n      <td>3216.0</td>\n      <td>1864</td>\n      <td>7636.0</td>\n      <td>Mon Jun 07 09:01:09 +0000 2010</td>\n      <td>Mon Jan 09 17:03:43 +0000 2017</td>\n      <td>...</td>\n      <td>False</td>\n      <td>{}</td>\n      <td>0.0</td>\n      <td>False</td>\n      <td>{}</td>\n      <td>NaN</td>\n      <td>{'hashtags': [], 'symbols': [], 'user_mentions...</td>\n      <td>[]</td>\n      <td>['kristianpagh']</td>\n      <td>[er, den, for, høj, i, køge, Kbh, er, jo, dere...</td>\n    </tr>\n    <tr>\n      <th>...</th>\n      <td>...</td>\n      <td>...</td>\n      <td>...</td>\n      <td>...</td>\n      <td>...</td>\n      <td>...</td>\n      <td>...</td>\n      <td>...</td>\n      <td>...</td>\n      <td>...</td>\n      <td>...</td>\n      <td>...</td>\n      <td>...</td>\n      <td>...</td>\n      <td>...</td>\n      <td>...</td>\n      <td>...</td>\n      <td>...</td>\n      <td>...</td>\n      <td>...</td>\n      <td>...</td>\n    </tr>\n    <tr>\n      <th>340366</th>\n      <td>360234529</td>\n      <td>Zenia Stampe</td>\n      <td>zeniastampe</td>\n      <td>Folketinget</td>\n      <td>Medlem af Folketinget for Radikale Venstre. Ku...</td>\n      <td>20661.0</td>\n      <td>1015</td>\n      <td>1539.0</td>\n      <td>Mon Aug 22 22:18:23 +0000 2011</td>\n      <td>Sun Mar 14 11:55:43 +0000 2021</td>\n      <td>...</td>\n      <td>False</td>\n      <td>{}</td>\n      <td>16.0</td>\n      <td>False</td>\n      <td>{}</td>\n      <td>NaN</td>\n      <td>{'hashtags': [], 'symbols': [], 'user_mentions...</td>\n      <td>[]</td>\n      <td>[]</td>\n      <td>[Vi, lancerer, i, dag, stort, udspil, for, pla...</td>\n    </tr>\n    <tr>\n      <th>340367</th>\n      <td>360234529</td>\n      <td>Zenia Stampe</td>\n      <td>zeniastampe</td>\n      <td>Folketinget</td>\n      <td>Medlem af Folketinget for Radikale Venstre. Ku...</td>\n      <td>20661.0</td>\n      <td>1015</td>\n      <td>1539.0</td>\n      <td>Mon Aug 22 22:18:23 +0000 2011</td>\n      <td>Mon Mar 15 11:26:58 +0000 2021</td>\n      <td>...</td>\n      <td>False</td>\n      <td>{}</td>\n      <td>7.0</td>\n      <td>False</td>\n      <td>{}</td>\n      <td>NaN</td>\n      <td>{'hashtags': [], 'symbols': [], 'user_mentions...</td>\n      <td>[]</td>\n      <td>[]</td>\n      <td>[Aftale, om, sommerens, festivaler, præsentere...</td>\n    </tr>\n    <tr>\n      <th>340368</th>\n      <td>360234529</td>\n      <td>Zenia Stampe</td>\n      <td>zeniastampe</td>\n      <td>Folketinget</td>\n      <td>Medlem af Folketinget for Radikale Venstre. Ku...</td>\n      <td>20661.0</td>\n      <td>1015</td>\n      <td>1539.0</td>\n      <td>Mon Aug 22 22:18:23 +0000 2011</td>\n      <td>Tue Apr 27 20:05:33 +0000 2021</td>\n      <td>...</td>\n      <td>False</td>\n      <td>{}</td>\n      <td>33.0</td>\n      <td>False</td>\n      <td>{}</td>\n      <td>NaN</td>\n      <td>{'hashtags': [], 'symbols': [], 'user_mentions...</td>\n      <td>[]</td>\n      <td>[]</td>\n      <td>[Tror, I, at, vi, er, dumme, Regeringen, rekla...</td>\n    </tr>\n    <tr>\n      <th>340369</th>\n      <td>360234529</td>\n      <td>Zenia Stampe</td>\n      <td>zeniastampe</td>\n      <td>Folketinget</td>\n      <td>Medlem af Folketinget for Radikale Venstre. Ku...</td>\n      <td>20661.0</td>\n      <td>1015</td>\n      <td>1539.0</td>\n      <td>Mon Aug 22 22:18:23 +0000 2011</td>\n      <td>Wed Apr 28 06:01:04 +0000 2021</td>\n      <td>...</td>\n      <td>False</td>\n      <td>{}</td>\n      <td>0.0</td>\n      <td>False</td>\n      <td>{}</td>\n      <td>NaN</td>\n      <td>{'hashtags': [], 'symbols': [], 'user_mentions...</td>\n      <td>[]</td>\n      <td>['hansersej']</td>\n      <td>[Det, er, vi, fuldt, bevidste, om, hvilket, ku...</td>\n    </tr>\n    <tr>\n      <th>340370</th>\n      <td>360234529</td>\n      <td>Zenia Stampe</td>\n      <td>zeniastampe</td>\n      <td>Folketinget</td>\n      <td>Medlem af Folketinget for Radikale Venstre. Ku...</td>\n      <td>20661.0</td>\n      <td>1015</td>\n      <td>1539.0</td>\n      <td>Mon Aug 22 22:18:23 +0000 2011</td>\n      <td>Wed Apr 28 07:43:33 +0000 2021</td>\n      <td>...</td>\n      <td>False</td>\n      <td>{}</td>\n      <td>8.0</td>\n      <td>False</td>\n      <td>{}</td>\n      <td>NaN</td>\n      <td>{'hashtags': [], 'symbols': [], 'user_mentions...</td>\n      <td>[]</td>\n      <td>[]</td>\n      <td>[Jeg, har, her, til, morgen, meddelt, fødevare...</td>\n    </tr>\n  </tbody>\n</table>\n<p>340371 rows × 23 columns</p>\n</div>"
     },
     "metadata": {},
     "execution_count": 27
    }
   ],
   "source": [
    "df"
   ]
  },
  {
   "cell_type": "code",
   "execution_count": 28,
   "metadata": {},
   "outputs": [],
   "source": [
    "tokens = df['preprocessed_text']\n",
    "handles = df['user_name']"
   ]
  },
  {
   "cell_type": "code",
   "execution_count": 29,
   "metadata": {},
   "outputs": [],
   "source": [
    "hsbm_df = pd.DataFrame({'handles': handles, 'tokens': tokens})"
   ]
  },
  {
   "cell_type": "code",
   "execution_count": 33,
   "metadata": {},
   "outputs": [],
   "source": [
    "hsbm_df_new = pd.read_csv('hsbm_df.zip', compression='zip', index_col=0)"
   ]
  },
  {
   "cell_type": "code",
   "execution_count": 45,
   "metadata": {},
   "outputs": [
    {
     "output_type": "execute_result",
     "data": {
      "text/plain": [
       "               handles                                             tokens\n",
       "31      Aslak Grinsted  ['RT', 'colleague', 'Jørgen', 'Peder', 'Steffe...\n",
       "39      Aslak Grinsted  ['RT', 'København', 'bliver', 'formentlig', 'l...\n",
       "73      Aslak Grinsted  ['RT', 'Läntagletscher', 'glacier', 'Switzerla...\n",
       "168      Anders Stouge  ['RT', 'TVavisen', 'lagde', 'vejen', 'forbi', ...\n",
       "171      Anders Stouge  ['RT', 'HKH', 'Kronprinsen', 'uddeler', 'pris'...\n",
       "...                ...                                                ...\n",
       "339856    Zenia Stampe  ['RT', 'Dalai', 'Lama', 'har', 'en', 'forsonen...\n",
       "339877    Zenia Stampe  ['RT', 'Dejlig', 'tur', 'i', 'Mjølnerparken', ...\n",
       "339938    Zenia Stampe  ['RT', 'Zenia', 'Stampe', 'om', 'krisen', 'hos...\n",
       "340020    Zenia Stampe  ['RT', 'Støjberg', 'mener', 'at', 'forholdene'...\n",
       "340167    Zenia Stampe  ['RT', 'I', 'radikale', 'Venstre', 'Radikale',...\n",
       "\n",
       "[5771 rows x 2 columns]"
      ],
      "text/html": "<div>\n<style scoped>\n    .dataframe tbody tr th:only-of-type {\n        vertical-align: middle;\n    }\n\n    .dataframe tbody tr th {\n        vertical-align: top;\n    }\n\n    .dataframe thead th {\n        text-align: right;\n    }\n</style>\n<table border=\"1\" class=\"dataframe\">\n  <thead>\n    <tr style=\"text-align: right;\">\n      <th></th>\n      <th>handles</th>\n      <th>tokens</th>\n    </tr>\n  </thead>\n  <tbody>\n    <tr>\n      <th>31</th>\n      <td>Aslak Grinsted</td>\n      <td>['RT', 'colleague', 'Jørgen', 'Peder', 'Steffe...</td>\n    </tr>\n    <tr>\n      <th>39</th>\n      <td>Aslak Grinsted</td>\n      <td>['RT', 'København', 'bliver', 'formentlig', 'l...</td>\n    </tr>\n    <tr>\n      <th>73</th>\n      <td>Aslak Grinsted</td>\n      <td>['RT', 'Läntagletscher', 'glacier', 'Switzerla...</td>\n    </tr>\n    <tr>\n      <th>168</th>\n      <td>Anders Stouge</td>\n      <td>['RT', 'TVavisen', 'lagde', 'vejen', 'forbi', ...</td>\n    </tr>\n    <tr>\n      <th>171</th>\n      <td>Anders Stouge</td>\n      <td>['RT', 'HKH', 'Kronprinsen', 'uddeler', 'pris'...</td>\n    </tr>\n    <tr>\n      <th>...</th>\n      <td>...</td>\n      <td>...</td>\n    </tr>\n    <tr>\n      <th>339856</th>\n      <td>Zenia Stampe</td>\n      <td>['RT', 'Dalai', 'Lama', 'har', 'en', 'forsonen...</td>\n    </tr>\n    <tr>\n      <th>339877</th>\n      <td>Zenia Stampe</td>\n      <td>['RT', 'Dejlig', 'tur', 'i', 'Mjølnerparken', ...</td>\n    </tr>\n    <tr>\n      <th>339938</th>\n      <td>Zenia Stampe</td>\n      <td>['RT', 'Zenia', 'Stampe', 'om', 'krisen', 'hos...</td>\n    </tr>\n    <tr>\n      <th>340020</th>\n      <td>Zenia Stampe</td>\n      <td>['RT', 'Støjberg', 'mener', 'at', 'forholdene'...</td>\n    </tr>\n    <tr>\n      <th>340167</th>\n      <td>Zenia Stampe</td>\n      <td>['RT', 'I', 'radikale', 'Venstre', 'Radikale',...</td>\n    </tr>\n  </tbody>\n</table>\n<p>5771 rows × 2 columns</p>\n</div>"
     },
     "metadata": {},
     "execution_count": 45
    }
   ],
   "source": [
    "hsbm_df_new.loc[hsbm_df_new.tokens.str.contains('http')]"
   ]
  },
  {
   "cell_type": "code",
   "execution_count": 26,
   "metadata": {},
   "outputs": [],
   "source": [
    "# save it to \n",
    "compression = dict(method='zip', archive_name= 'hsbm_df.csv')\n",
    "hsbm_df.to_csv('hsbm_df.zip', compression=compression)"
   ]
  },
  {
   "source": [
    "## Running the hSBM"
   ],
   "cell_type": "markdown",
   "metadata": {}
  },
  {
   "cell_type": "code",
   "execution_count": null,
   "metadata": {},
   "outputs": [],
   "source": [
    "def extract_dict(string):\n",
    "    \"\"\"Helper function to extract dict from string if string exists \n",
    "    else the function returns an empty dict (Thanks, Tweepy...)\n",
    "    Here it is used to extract lists; that works?!\"\"\"\n",
    "    try:\n",
    "        out = ast.literal_eval(string)\n",
    "    except:\n",
    "        out = dict()\n",
    "    return out\n",
    "\n",
    "hsbm_df[\"tokens\"] = hsbm_df.tokens.apply(lambda x: extract_dict(x))"
   ]
  },
  {
   "cell_type": "code",
   "execution_count": null,
   "metadata": {},
   "outputs": [],
   "source": [
    "handles = df['handles']\n",
    "docs = df['tokens']\n",
    "# stopwords imported in the beginning; we wan't to remove them! \n",
    "docs = [[word for word in doc if word not in STOP_WORDS] for doc in docs]"
   ]
  },
  {
   "cell_type": "code",
   "execution_count": null,
   "metadata": {},
   "outputs": [],
   "source": [
    "# Remove infrequent words; Snorres solution\n",
    "cutoff = 5\n",
    "c = Counter()\n",
    "for doc in docs:\n",
    "    c.update(Counter(doc))\n",
    "vocab = c.most_common(25000)\n",
    "vocab = set([word for word, count in vocab if count > 5])\n",
    "# remove words\n",
    "docs = [[w for w in doc if w in vocab] for doc in docs]"
   ]
  },
  {
   "cell_type": "markdown",
   "metadata": {},
   "source": [
    "# the main idea\n",
    "Take in the tweets from all of our actors and group these into topics with the HSBM: if it finds a climate topic we would like to see what words allows us to identify these topics and try to expand our keywords list by including these words. "
   ]
  },
  {
   "cell_type": "code",
   "execution_count": null,
   "metadata": {},
   "outputs": [],
   "source": [
    "# step 3\n",
    "model = sbmtm()\n",
    "\n",
    "## we have to create the document network from the corpus\n",
    "model.make_graph(docs)\n",
    "\n",
    "gt.seed_rng(42) ## seed for graph-tool's random number generator --> same results\n",
    "model.fit()"
   ]
  },
  {
   "cell_type": "code",
   "execution_count": null,
   "metadata": {},
   "outputs": [],
   "source": [
    "model.save_graph(filename = 'graph_full_dataset_nostopwords.xml.gz')\n",
    "model.topics"
   ]
  },
  {
   "cell_type": "code",
   "execution_count": null,
   "metadata": {},
   "outputs": [],
   "source": [
    "def get_topic_df(topics):\n",
    "  '''takes in model.topic and returns a df that can be used to save the topics\n",
    "  could (and probably should) be rewritten with list comprehensions!'''\n",
    "  topic_nr = []\n",
    "  words = []\n",
    "  weights = []\n",
    "  for topic in topics: \n",
    "    for word in topics[topic]:\n",
    "      topic_nr.append('topic ' + str(topic))\n",
    "      words.append(word[0])\n",
    "      weights.append(word[1])\n",
    "\n",
    "  return pd.DataFrame({'topic_nr': topic_nr,\n",
    "                'words': words,\n",
    "                'weights': weights})"
   ]
  },
  {
   "cell_type": "code",
   "execution_count": null,
   "metadata": {},
   "outputs": [],
   "source": [
    "topic_df = get_topic_df(topics)"
   ]
  },
  {
   "cell_type": "code",
   "execution_count": null,
   "metadata": {},
   "outputs": [],
   "source": [
    "topic_df.to_csv('topics_6000_nostopwords.csv')\n",
    "# for looking at individual topics\n",
    "#topic_df.loc[topic_df.topic_nr == 'topic 8']"
   ]
  },
  {
   "source": [
    "## Getting new and more keywords with the topics and a word2vec model"
   ],
   "cell_type": "markdown",
   "metadata": {}
  },
  {
   "cell_type": "code",
   "execution_count": 6,
   "metadata": {},
   "outputs": [],
   "source": [
    "from gensim.models import KeyedVectors"
   ]
  },
  {
   "cell_type": "code",
   "execution_count": 7,
   "metadata": {},
   "outputs": [],
   "source": [
    "path = 'w2v/f500.model.txtvectors'\n",
    "w2v = KeyedVectors.load_word2vec_format('w2v/dsl_skipgram_2020_m5_f500_epoch2_w5.model.w2v.bin', binary=True)"
   ]
  },
  {
   "cell_type": "code",
   "execution_count": 10,
   "metadata": {},
   "outputs": [
    {
     "output_type": "execute_result",
     "data": {
      "text/plain": [
       "[('klimalovgivning', 0.7582038640975952),\n",
       " ('klimaloven', 0.7433066368103027),\n",
       " ('klimatraktat', 0.6894715428352356),\n",
       " ('energilov', 0.6751753091812134),\n",
       " ('københavneraftale', 0.6731733083724976),\n",
       " ('immigrationsreform', 0.6696126461029053),\n",
       " ('energipakke', 0.6614158153533936),\n",
       " ('klimaplan', 0.6599331498146057),\n",
       " ('kyotoaftale', 0.6560425162315369),\n",
       " ('finansreform', 0.655942440032959)]"
      ]
     },
     "metadata": {},
     "execution_count": 10
    }
   ],
   "source": [
    "w2v.most_similar(positive=[u'klimalov'])"
   ]
  },
  {
   "cell_type": "code",
   "execution_count": null,
   "metadata": {},
   "outputs": [],
   "source": []
  }
 ],
 "metadata": {
  "kernelspec": {
   "name": "python383jvsc74a57bd0b8089a7db9675716af6f3ef0ee1ea73e26b7aa6c2343085de3f0e2526ce7887b",
   "display_name": "Python 3.8.3 64-bit ('anaconda3': virtualenv)"
  },
  "language_info": {
   "codemirror_mode": {
    "name": "ipython",
    "version": 3
   },
   "file_extension": ".py",
   "mimetype": "text/x-python",
   "name": "python",
   "nbconvert_exporter": "python",
   "pygments_lexer": "ipython3",
   "version": "3.8.3"
  }
 },
 "nbformat": 4,
 "nbformat_minor": 4
}