{
 "cells": [
  {
   "cell_type": "markdown",
   "metadata": {},
   "source": [
    "## Import libraries and initial setup"
   ]
  },
  {
   "cell_type": "code",
   "execution_count": 2,
   "metadata": {
    "scrolled": true
   },
   "outputs": [],
   "source": [
    "import tweepy\n",
    "import numpy as np\n",
    "import pandas as pd\n",
    "import time\n",
    "import datetime\n",
    "from tqdm import tqdm\n",
    "\n",
    "from app_cred import CONSUMER_KEY, CONSUMER_SECRET #import user specific keys to access twitter\n",
    "from app_cred import ACCESS_TOKEN, ACCESS_TOKEN_SECRET #import user specific keys to access twitter \n",
    "\n",
    "auth = tweepy.OAuthHandler(CONSUMER_KEY, CONSUMER_SECRET)\n",
    "auth.set_access_token(ACCESS_TOKEN, ACCESS_TOKEN_SECRET)\n",
    "api = tweepy.API(auth, wait_on_rate_limit = True, \n",
    "                 wait_on_rate_limit_notify = True, \n",
    "                 timeout=900)\n",
    "\n",
    "pd.set_option(\"display.max_columns\", None)"
   ]
  },
  {
   "cell_type": "markdown",
   "metadata": {},
   "source": [
    "## Split dataset into four parts"
   ]
  },
  {
   "cell_type": "code",
   "execution_count": null,
   "metadata": {
    "scrolled": false
   },
   "outputs": [],
   "source": [
    "handles=pd.read_excel(\"Initial network.xlsx\")\n",
    "handles=handles[\"Twitter Handle (uden @)\"]\n",
    "handle1, handle2, handle3, handle4 = np.array_split(handles, 4)\n",
    "\n",
    "i = 1\n",
    "for handle in [handle1, handle2, handle3, handle4]:\n",
    "    handle.to_csv(f\"handle{i}.csv\", index=False)\n",
    "    i += 1"
   ]
  },
  {
   "cell_type": "markdown",
   "metadata": {},
   "source": [
    "## Define functions"
   ]
  },
  {
   "cell_type": "code",
   "execution_count": 3,
   "metadata": {},
   "outputs": [],
   "source": [
    "start_date = datetime.datetime(2019, 5, 6)\n",
    "\n",
    "def limit_handled(cursor):\n",
    "    \"\"\"Generator to throttle scraping of Twitter-user timeline.\n",
    "    Yields next tweet in timeline\"\"\"\n",
    "    while True:\n",
    "        try:\n",
    "            yield next(cursor)\n",
    "        except tweepy.RateLimitError as r: # If rate limit is reached sleep for 15 minutes\n",
    "            print(r.reason) \n",
    "            time.sleep(15 * 60)\n",
    "        except tweepy.TweepError as e: # If other error back off for 5 seconds, then continue\n",
    "            print(e.reason)\n",
    "            time.sleep(5)\n",
    "        except StopIteration:\n",
    "            break\n",
    "\n",
    "def get_all_tweets(handle):\n",
    "    \"\"\"Function is supposed to return all possible tweets from a user in a df\n",
    "    Handle is the handle of the account and n is the number of wished tweets\"\"\"\n",
    "    global start_date\n",
    "    timeline = tweepy.Cursor(api.user_timeline, screen_name=handle,\n",
    "                             tweet_mode=\"extended\",\n",
    "                             since=start_date)\n",
    "    tweet_list = [status._json for status in limit_handled(timeline.items())]\n",
    "    return pd.DataFrame(tweet_list)"
   ]
  },
  {
   "cell_type": "markdown",
   "metadata": {},
   "source": [
    "## Scrape timelines"
   ]
  },
  {
   "cell_type": "code",
   "execution_count": null,
   "metadata": {},
   "outputs": [],
   "source": [
    "def get_tweets_from_handles(handlefile)\n",
    "    '''Give this function the csv file with the handle \n",
    "    it returns a df including the tweets from all the handles'''\n",
    "    handles = pd.read_csv(handlefile)\n",
    "    handles = handles.loc[:, 'Twitter Handle (uden @)'].to_list()\n",
    "    df = pd.DataFrame()\n",
    "    for handle in tqdm(handles):\n",
    "        df = pd.concat([df, temp], ignore_index = True)\n",
    "    return df"
   ]
  },
  {
   "cell_type": "code",
   "execution_count": null,
   "metadata": {},
   "outputs": [
    {
     "name": "stderr",
     "output_type": "stream",
     "text": [
      " 18%|█▊        | 3/17 [04:55<23:09, 99.23s/it] "
     ]
    }
   ],
   "source": [
    "handle9 = pd.read_csv('handle9.csv')\n",
    "df = pd.DataFrame()\n",
    "for handle in tqdm(handle9.loc[:, 'Twitter Handle (uden @)'].to_list()):\n",
    "    temp = get_all_tweets(handle)\n",
    "    df = pd.concat([df, temp], ignore_index=True)"
   ]
  },
  {
   "cell_type": "markdown",
   "metadata": {},
   "source": [
    "## Export DataFrame to .parquet"
   ]
  },
  {
   "cell_type": "code",
   "execution_count": null,
   "metadata": {},
   "outputs": [],
   "source": [
    "df.to_parquet('df.parquet.gzip',\n",
    "              compression='gzip') "
   ]
  }
 ],
 "metadata": {
  "kernelspec": {
   "display_name": "Python 3",
   "language": "python",
   "name": "python3"
  },
  "language_info": {
   "codemirror_mode": {
    "name": "ipython",
    "version": 3
   },
   "file_extension": ".py",
   "mimetype": "text/x-python",
   "name": "python",
   "nbconvert_exporter": "python",
   "pygments_lexer": "ipython3",
   "version": "3.8.3"
  }
 },
 "nbformat": 4,
 "nbformat_minor": 4
}
