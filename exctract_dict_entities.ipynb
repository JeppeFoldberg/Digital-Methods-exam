{
 "cells": [
  {
   "cell_type": "code",
   "execution_count": 13,
   "metadata": {},
   "outputs": [],
   "source": [
    "import pandas as pd\n",
    "import ast\n",
    "\n",
    "pd.set_option(\"display.max_columns\", None)\n",
    "pd.set_option(\"display.max_rows\", None)"
   ]
  },
  {
   "cell_type": "code",
   "execution_count": 2,
   "metadata": {
    "scrolled": false
   },
   "outputs": [
    {
     "name": "stderr",
     "output_type": "stream",
     "text": [
      "C:\\Users\\Mikkel\\Anaconda3\\lib\\site-packages\\IPython\\core\\interactiveshell.py:3146: DtypeWarning: Columns (0,6,13,16) have mixed types.Specify dtype option on import or set low_memory=False.\n",
      "  interactivity=interactivity, compiler=compiler, result=result)\n"
     ]
    }
   ],
   "source": [
    "df=pd.read_csv(\"all_tweets_2.zip\")"
   ]
  },
  {
   "cell_type": "code",
   "execution_count": 3,
   "metadata": {},
   "outputs": [],
   "source": [
    "def extract_dict(string):\n",
    "    \"\"\"Helper function to extract dict from string if string exists \n",
    "    else the function returns an empty dict (Thanks, Tweepy...)\"\"\"\n",
    "    try:\n",
    "        out=ast.literal_eval(string)\n",
    "    except:\n",
    "        out=dict()\n",
    "    return out\n",
    "\n",
    "def extract_from_entities(tweet,ent_key,tag_key):\n",
    "    \"\"\"Helper function to extract information from tweet_entities.\n",
    "    tweet_entities is a dict-of-dicts containing all information on \n",
    "    twitter entities from a given tweet.\n",
    "    ent_key: key used to access the dictionary of interest e.g. \"hastags\"\n",
    "    tag_key: key used to access value of interest e.g. \"text\"\n",
    "    Why, Tweepy? WHY?!\"\"\"\n",
    "    try:\n",
    "        out=[tag[tag_key] for tag in tweet[ent_key] if tweet[ent_key]!=ent_key]\n",
    "    except:\n",
    "        out=list()\n",
    "    return out"
   ]
  },
  {
   "cell_type": "code",
   "execution_count": 4,
   "metadata": {
    "scrolled": true
   },
   "outputs": [],
   "source": [
    "df[\"tweet_retweeted_status\"]=df[\"tweet_retweeted_status\"].apply(lambda x:extract_dict(x))\n",
    "df[\"tweet_quoted_status\"]=df[\"tweet_quoted_status\"].apply(lambda x:extract_dict(x))\n",
    "df[\"tweet_entities\"]=df[\"tweet_entities\"].apply(lambda x:extract_dict(x))\n",
    "\n",
    "df[\"tweet_hashtags\"]=df.tweet_entities.apply(lambda tweet: extract_from_entities(tweet,\"hashtags\",\"text\"))\n",
    "df[\"tweet_mentions\"]=df.tweet_entities.apply(lambda tweet: extract_from_entities(tweet,\"user_mentions\",\"screen_name\"))"
   ]
  }
 ],
 "metadata": {
  "kernelspec": {
   "display_name": "Python 3",
   "language": "python",
   "name": "python3"
  },
  "language_info": {
   "codemirror_mode": {
    "name": "ipython",
    "version": 3
   },
   "file_extension": ".py",
   "mimetype": "text/x-python",
   "name": "python",
   "nbconvert_exporter": "python",
   "pygments_lexer": "ipython3",
   "version": "3.7.3"
  }
 },
 "nbformat": 4,
 "nbformat_minor": 4
}
